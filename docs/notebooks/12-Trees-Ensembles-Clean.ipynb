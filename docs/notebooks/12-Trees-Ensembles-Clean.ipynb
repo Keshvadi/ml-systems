{
 "cells": [
  {
   "cell_type": "markdown",
   "metadata": {},
   "source": [
    "# Trees and Ensembles"
   ]
  },
  {
   "cell_type": "markdown",
   "metadata": {},
   "source": [
    "Today we'll investigate whether a network eavesdropper can use device traffic to infer what people are doing inside their homes. We will pretend to be the eavesdropper and use a nearest neighbors classifier to perform this attack. We'll discuss what makes this algorithm effective, why this constitutes a privacy risk, and how we can protect device owners."
   ]
  },
  {
   "cell_type": "code",
   "execution_count": 2,
   "metadata": {},
   "outputs": [],
   "source": [
    "import numpy as np\n",
    "import pandas as pd\n",
    "\n",
    "import logging\n",
    "logging.getLogger(\"scapy.runtime\").setLevel(logging.ERROR)\n",
    "\n",
    "import sklearn\n",
    "from sklearn.preprocessing import LabelEncoder\n",
    "from sklearn.model_selection import train_test_split\n",
    "from sklearn.metrics import accuracy_score\n",
    "from sklearn.tree import DecisionTreeClassifier\n",
    "\n",
    "import matplotlib as mpl\n",
    "import matplotlib.pyplot as plt\n",
    "%matplotlib inline\n",
    "\n",
    "import warnings\n",
    "warnings.filterwarnings('ignore')\n",
    "\n",
    "plt.rcParams[\"figure.figsize\"] = (8,6)\n",
    "\n",
    "import netml\n",
    "from netml.pparser.parser import PCAP"
   ]
  },
  {
   "cell_type": "markdown",
   "metadata": {},
   "source": [
    "## Application to IoT Privacy\n",
    "\n",
    "In order to apply a classifier to our IoT device network data we need to take the following steps:\n",
    "1. Convert the lists of packets into points, with each point representing the device's network activity at a particular time \n",
    "2. Associate each point with a label (the activity you were doing with the device at the time of the point). \n",
    "3. Divide the points into a training set and a test set and train a K-Nearest Neighbors classifier. In fact, \"train\" is a bit of a misnomer for nearest neighbor classifiers, training essentially consists of storing the points in the training set for future distance computations and comparisons. No model is trained.\n",
    "4. Predict the labels of the test set using the classifier and calculate the accuracy of the predictions against the real labels."
   ]
  },
  {
   "cell_type": "markdown",
   "metadata": {},
   "source": [
    "#### 1. Import data and convert to points\n",
    "\n",
    "The data is currently stored as a list of packets, but we want it as points corresponding to time periods. "
   ]
  },
  {
   "cell_type": "code",
   "execution_count": 5,
   "metadata": {},
   "outputs": [
    {
     "name": "stdout",
     "output_type": "stream",
     "text": [
      "'_pcap2pandas()' starts at 2022-11-03 11:47:26\n",
      "'_pcap2pandas()' ends at 2022-11-03 11:47:34 and takes 0.1279 mins.\n"
     ]
    },
    {
     "data": {
      "text/html": [
       "<div>\n",
       "<style scoped>\n",
       "    .dataframe tbody tr th:only-of-type {\n",
       "        vertical-align: middle;\n",
       "    }\n",
       "\n",
       "    .dataframe tbody tr th {\n",
       "        vertical-align: top;\n",
       "    }\n",
       "\n",
       "    .dataframe thead th {\n",
       "        text-align: right;\n",
       "    }\n",
       "</style>\n",
       "<table border=\"1\" class=\"dataframe\">\n",
       "  <thead>\n",
       "    <tr style=\"text-align: right;\">\n",
       "      <th></th>\n",
       "      <th>datetime</th>\n",
       "      <th>dns_query</th>\n",
       "      <th>dns_resp</th>\n",
       "      <th>ip_dst</th>\n",
       "      <th>ip_dst_int</th>\n",
       "      <th>ip_src</th>\n",
       "      <th>ip_src_int</th>\n",
       "      <th>is_dns</th>\n",
       "      <th>length</th>\n",
       "      <th>mac_dst</th>\n",
       "      <th>mac_dst_int</th>\n",
       "      <th>mac_src</th>\n",
       "      <th>mac_src_int</th>\n",
       "      <th>port_dst</th>\n",
       "      <th>port_src</th>\n",
       "      <th>protocol</th>\n",
       "      <th>time</th>\n",
       "      <th>time_normed</th>\n",
       "    </tr>\n",
       "  </thead>\n",
       "  <tbody>\n",
       "    <tr>\n",
       "      <th>0</th>\n",
       "      <td>2016-07-29 15:10:03</td>\n",
       "      <td>None</td>\n",
       "      <td>None</td>\n",
       "      <td>172.24.1.84</td>\n",
       "      <td>2.887254e+09</td>\n",
       "      <td>52.87.161.133</td>\n",
       "      <td>8.781582e+08</td>\n",
       "      <td>False</td>\n",
       "      <td>66</td>\n",
       "      <td>18:b4:30:54:a5:db</td>\n",
       "      <td>27162184033755</td>\n",
       "      <td>b8:27:eb:ed:34:f0</td>\n",
       "      <td>202481601426672</td>\n",
       "      <td>46110.0</td>\n",
       "      <td>443.0</td>\n",
       "      <td>TCP</td>\n",
       "      <td>1469823003.220967</td>\n",
       "      <td>0.000000</td>\n",
       "    </tr>\n",
       "    <tr>\n",
       "      <th>1</th>\n",
       "      <td>2016-07-29 15:10:03</td>\n",
       "      <td>None</td>\n",
       "      <td>None</td>\n",
       "      <td>172.24.1.84</td>\n",
       "      <td>2.887254e+09</td>\n",
       "      <td>52.87.161.133</td>\n",
       "      <td>8.781582e+08</td>\n",
       "      <td>False</td>\n",
       "      <td>66</td>\n",
       "      <td>18:b4:30:54:a5:db</td>\n",
       "      <td>27162184033755</td>\n",
       "      <td>b8:27:eb:ed:34:f0</td>\n",
       "      <td>202481601426672</td>\n",
       "      <td>46110.0</td>\n",
       "      <td>443.0</td>\n",
       "      <td>TCP</td>\n",
       "      <td>1469823003.260909</td>\n",
       "      <td>0.039942</td>\n",
       "    </tr>\n",
       "    <tr>\n",
       "      <th>2</th>\n",
       "      <td>2016-07-29 15:10:03</td>\n",
       "      <td>None</td>\n",
       "      <td>None</td>\n",
       "      <td>52.87.161.133</td>\n",
       "      <td>8.781582e+08</td>\n",
       "      <td>172.24.1.84</td>\n",
       "      <td>2.887254e+09</td>\n",
       "      <td>False</td>\n",
       "      <td>1506</td>\n",
       "      <td>b8:27:eb:ed:34:f0</td>\n",
       "      <td>202481601426672</td>\n",
       "      <td>18:b4:30:54:a5:db</td>\n",
       "      <td>27162184033755</td>\n",
       "      <td>443.0</td>\n",
       "      <td>46110.0</td>\n",
       "      <td>TCP</td>\n",
       "      <td>1469823003.271401</td>\n",
       "      <td>0.050434</td>\n",
       "    </tr>\n",
       "    <tr>\n",
       "      <th>3</th>\n",
       "      <td>2016-07-29 15:10:03</td>\n",
       "      <td>None</td>\n",
       "      <td>None</td>\n",
       "      <td>52.87.161.133</td>\n",
       "      <td>8.781582e+08</td>\n",
       "      <td>172.24.1.84</td>\n",
       "      <td>2.887254e+09</td>\n",
       "      <td>False</td>\n",
       "      <td>1506</td>\n",
       "      <td>b8:27:eb:ed:34:f0</td>\n",
       "      <td>202481601426672</td>\n",
       "      <td>18:b4:30:54:a5:db</td>\n",
       "      <td>27162184033755</td>\n",
       "      <td>443.0</td>\n",
       "      <td>46110.0</td>\n",
       "      <td>TCP</td>\n",
       "      <td>1469823003.272394</td>\n",
       "      <td>0.051427</td>\n",
       "    </tr>\n",
       "  </tbody>\n",
       "</table>\n",
       "</div>"
      ],
      "text/plain": [
       "             datetime dns_query dns_resp         ip_dst    ip_dst_int  \\\n",
       "0 2016-07-29 15:10:03      None     None    172.24.1.84  2.887254e+09   \n",
       "1 2016-07-29 15:10:03      None     None    172.24.1.84  2.887254e+09   \n",
       "2 2016-07-29 15:10:03      None     None  52.87.161.133  8.781582e+08   \n",
       "3 2016-07-29 15:10:03      None     None  52.87.161.133  8.781582e+08   \n",
       "\n",
       "          ip_src    ip_src_int  is_dns  length            mac_dst  \\\n",
       "0  52.87.161.133  8.781582e+08   False      66  18:b4:30:54:a5:db   \n",
       "1  52.87.161.133  8.781582e+08   False      66  18:b4:30:54:a5:db   \n",
       "2    172.24.1.84  2.887254e+09   False    1506  b8:27:eb:ed:34:f0   \n",
       "3    172.24.1.84  2.887254e+09   False    1506  b8:27:eb:ed:34:f0   \n",
       "\n",
       "       mac_dst_int            mac_src      mac_src_int  port_dst  port_src  \\\n",
       "0   27162184033755  b8:27:eb:ed:34:f0  202481601426672   46110.0     443.0   \n",
       "1   27162184033755  b8:27:eb:ed:34:f0  202481601426672   46110.0     443.0   \n",
       "2  202481601426672  18:b4:30:54:a5:db   27162184033755     443.0   46110.0   \n",
       "3  202481601426672  18:b4:30:54:a5:db   27162184033755     443.0   46110.0   \n",
       "\n",
       "  protocol               time time_normed  \n",
       "0      TCP  1469823003.220967    0.000000  \n",
       "1      TCP  1469823003.260909    0.039942  \n",
       "2      TCP  1469823003.271401    0.050434  \n",
       "3      TCP  1469823003.272394    0.051427  "
      ]
     },
     "execution_count": 5,
     "metadata": {},
     "output_type": "execute_result"
    }
   ],
   "source": [
    "hpcap = PCAP('data/nestcam_live.pcap', flow_ptks_thres=2, verbose=10)\n",
    "\n",
    "hpcap.pcap2pandas()\n",
    "pcap = hpcap.df\n",
    "\n",
    "pcap.head(4)"
   ]
  },
  {
   "cell_type": "markdown",
   "metadata": {},
   "source": [
    "#### 2. Data cleaning\n",
    "\n",
    "Let's clean up the data a bit first. \n",
    "\n",
    "1. Filter the data frame so that it only contains packets sent or received by the web camera. \n",
    "2. Assume that the eavesdropper is outside the home and only has access to IP header information (not MAC addresses).\n",
    "3. Assume that the eavesdropper only has access to the time each packet was sent and its length (this is a reasonable assumption for encrypted traffic). \n"
   ]
  },
  {
   "cell_type": "markdown",
   "metadata": {},
   "source": [
    "#### 3. Convert to datetime format (optional).\n",
    "\n",
    "Times are in units of seconds since the \"epoch\" (January 1, 1970 at 00:00:00 GMT), a common format for timestamps. \n",
    "\n",
    "Let's convert them to normal-looking times."
   ]
  },
  {
   "cell_type": "markdown",
   "metadata": {},
   "source": [
    "Now let's convert the list of packets into send rates by calculating the total amount of data sent (sum of packet lengths) during equal length time windows. The `send_rates()` function is defined below"
   ]
  },
  {
   "cell_type": "code",
   "execution_count": 11,
   "metadata": {},
   "outputs": [],
   "source": [
    "def send_rates(data, window_len_sec):\n",
    "    '''Calculates send rates from packet DataFrames\n",
    "    Arguments:\n",
    "      data: pandas DataFrame with 'time' and 'length' columns \n",
    "              like that returned from pcap_to_pandas()\n",
    "      window_len_sec: interval for calculating rates\n",
    "    Returns:\n",
    "       rates: array of send rates\n",
    "       times: array of times corresponding to each window in rates\n",
    "    '''\n",
    "    data = data.sort_values(by=[\"time\"])\n",
    "    windows = []\n",
    "    times = []\n",
    "    curr_time = data.iloc[0][\"time\"]\n",
    "    end_time = curr_time + window_len_sec\n",
    "    i = 0\n",
    "    while curr_time < data.iloc[-1][\"time\"]:\n",
    "        windows.append(0)\n",
    "        times.append(curr_time)\n",
    "        while i < len(data) and data.iloc[i][\"time\"] < end_time:\n",
    "            windows[-1] += data.iloc[i][\"length\"]\n",
    "            i += 1\n",
    "        curr_time = end_time\n",
    "        end_time = curr_time + window_len_sec\n",
    "    rates = np.array(windows) / float(window_len_sec)\n",
    "    times = np.array(times)\n",
    "    return rates, times\n"
   ]
  },
  {
   "cell_type": "markdown",
   "metadata": {},
   "source": [
    "#### 4. Explore data representations\n",
    "\n",
    "Often, the choice of data representation is at least as important as the choice of model. Try choosing different values for sampling_interval_sec and see how it affects the plots. \n",
    "\n",
    "Questions:\n",
    "\n",
    "* What may be some benefits/drawbacks of having a small sampling interval? \n",
    "* What may be benefits/drawbacks of having a large sampling interval? "
   ]
  },
  {
   "cell_type": "markdown",
   "metadata": {},
   "source": [
    "#### 5. Represent rates as n-dimensional points\n",
    "\n",
    "Next let's represent each rate as an n-dimensional point. Ultimately, we will then associate each n-dimensionsal point with a specific activity. The `d` variable creates points in `d` dimensions. We have set this to two right now so that visualization is easy, but below we will expand on this to allow us to visualize points in higher dimensions.\n",
    "\n",
    "The `rates_to_points` function below generates $m$ d-dimensional points from the rate timeseries above."
   ]
  },
  {
   "cell_type": "code",
   "execution_count": 29,
   "metadata": {},
   "outputs": [],
   "source": [
    "# Sample function to sample send rates to act as points for kNN training\n",
    "def rates_to_points(rates, times, sampling_period):\n",
    "    \n",
    "    # generate points. each point is sampled according to some sampling rate\n",
    "    points = [rates[i:min(i+sampling_period, rates.size-1)] for i in range(0, rates.size, sampling_period)]\n",
    "    times = [times[i] for i in range(0, times.size, sampling_period)]\n",
    "    return np.array(points[:-1]), np.array(times[:-1])\n",
    "    \n",
    "# number of send rate samples to include in each point. \n",
    "# How many total seconds will each point represent? \n",
    "# This is ultimately the *dimension* of the space, k, in our KNN classifer.\n",
    "d = 2\n",
    "\n",
    "# get d-dimensional points and the time for each point.\n",
    "# we need to get the times because we're going to label each point based on an activity at a given time.\n",
    "points, point_times = rates_to_points(rates, \n",
    "                                      rate_times,\n",
    "                                      d) "
   ]
  },
  {
   "cell_type": "markdown",
   "metadata": {},
   "source": [
    "Let's take a quick look at the result. We started off with a certain number of rates at each point in time. Then we binned those into k-dimensional points, each at a point in time. We thus have $T/k$ number of data points if our original rate timeseries had $T$ samples."
   ]
  },
  {
   "cell_type": "markdown",
   "metadata": {},
   "source": [
    "Now we have points and associated times. If you choose `sampling_period = 2`, then each sample will correspond to a two-dimensional point. This would allow us to plot the points.  Let's try that first and plot the result."
   ]
  },
  {
   "cell_type": "markdown",
   "metadata": {},
   "source": [
    "#### 7. Associate k-dimensional points with activity labels. \n",
    "\n",
    "First, read the labels from the text file. These labels are analogous to our classes/colors from the first example above, except that instead of {red, green, blue}, we have two labels: \n",
    "* `livestream`, which indicates that the camera is simply monitoring; and \n",
    "* `motion`, which indicates that the camera has detected motion and has begun to record/upload a video."
   ]
  },
  {
   "cell_type": "code",
   "execution_count": 16,
   "metadata": {},
   "outputs": [
    {
     "data": {
      "text/html": [
       "<div>\n",
       "<style scoped>\n",
       "    .dataframe tbody tr th:only-of-type {\n",
       "        vertical-align: middle;\n",
       "    }\n",
       "\n",
       "    .dataframe tbody tr th {\n",
       "        vertical-align: top;\n",
       "    }\n",
       "\n",
       "    .dataframe thead th {\n",
       "        text-align: right;\n",
       "    }\n",
       "</style>\n",
       "<table border=\"1\" class=\"dataframe\">\n",
       "  <thead>\n",
       "    <tr style=\"text-align: right;\">\n",
       "      <th></th>\n",
       "      <th>time</th>\n",
       "      <th>activity</th>\n",
       "    </tr>\n",
       "  </thead>\n",
       "  <tbody>\n",
       "    <tr>\n",
       "      <th>0</th>\n",
       "      <td>16:10:00</td>\n",
       "      <td>livestream</td>\n",
       "    </tr>\n",
       "    <tr>\n",
       "      <th>1</th>\n",
       "      <td>16:12:20</td>\n",
       "      <td>motion</td>\n",
       "    </tr>\n",
       "    <tr>\n",
       "      <th>2</th>\n",
       "      <td>16:14:00</td>\n",
       "      <td>livestream</td>\n",
       "    </tr>\n",
       "    <tr>\n",
       "      <th>3</th>\n",
       "      <td>16:16:20</td>\n",
       "      <td>motion</td>\n",
       "    </tr>\n",
       "    <tr>\n",
       "      <th>4</th>\n",
       "      <td>16:18:00</td>\n",
       "      <td>livestream</td>\n",
       "    </tr>\n",
       "    <tr>\n",
       "      <th>5</th>\n",
       "      <td>16:20:45</td>\n",
       "      <td>motion</td>\n",
       "    </tr>\n",
       "    <tr>\n",
       "      <th>6</th>\n",
       "      <td>16:22:00</td>\n",
       "      <td>livestream</td>\n",
       "    </tr>\n",
       "    <tr>\n",
       "      <th>7</th>\n",
       "      <td>16:24:15</td>\n",
       "      <td>motion</td>\n",
       "    </tr>\n",
       "    <tr>\n",
       "      <th>8</th>\n",
       "      <td>16:26:00</td>\n",
       "      <td>livestream</td>\n",
       "    </tr>\n",
       "    <tr>\n",
       "      <th>9</th>\n",
       "      <td>16:28:20</td>\n",
       "      <td>motion</td>\n",
       "    </tr>\n",
       "  </tbody>\n",
       "</table>\n",
       "</div>"
      ],
      "text/plain": [
       "       time     activity\n",
       "0  16:10:00   livestream\n",
       "1  16:12:20       motion\n",
       "2  16:14:00   livestream\n",
       "3  16:16:20       motion\n",
       "4  16:18:00   livestream\n",
       "5  16:20:45       motion\n",
       "6  16:22:00   livestream\n",
       "7  16:24:15       motion\n",
       "8  16:26:00   livestream\n",
       "9  16:28:20       motion"
      ]
     },
     "execution_count": 16,
     "metadata": {},
     "output_type": "execute_result"
    }
   ],
   "source": [
    "labels = pd.read_csv('data/nestcam_live_labels.txt', header=None, names=[\"time\", \"activity\"])\n",
    "labels.head(10)"
   ]
  },
  {
   "cell_type": "markdown",
   "metadata": {},
   "source": [
    "Assign a label to each point based on timestamp.\n",
    "\n",
    "First, read in the labels."
   ]
  },
  {
   "cell_type": "markdown",
   "metadata": {},
   "source": [
    "Finally, map the points to labels."
   ]
  },
  {
   "cell_type": "markdown",
   "metadata": {},
   "source": [
    "Now that we've labeled the data, we can assocate each point with a label (class), and re-plot the above scatterplot with the appropriate colors corresponding to classes."
   ]
  },
  {
   "cell_type": "markdown",
   "metadata": {},
   "source": [
    "Let's divide the points into a training set and a test set. "
   ]
  },
  {
   "cell_type": "markdown",
   "metadata": {},
   "source": [
    "## Random Forest\n",
    "\n",
    "Now we will train a [random forest classifier](https://scikit-learn.org/stable/modules/generated/sklearn.ensemble.RandomForestClassifier.html) on the training set.\n",
    "\n",
    "**Note:** Your choice of data representation actually makes a huge difference as far as accuracy is concerned! Try this exercise for different values of T and see how it affects accuracy!"
   ]
  },
  {
   "cell_type": "markdown",
   "metadata": {},
   "source": [
    "### Train a Random Forest Classifier\n",
    "\n",
    "Train a `RandomForestClassifier` on your labeled data."
   ]
  },
  {
   "cell_type": "markdown",
   "metadata": {},
   "source": [
    "Perform prediction on the test set, and use `accuracy_score` to report accuracy."
   ]
  },
  {
   "cell_type": "markdown",
   "metadata": {},
   "source": [
    "---\n",
    "## Discussion Questions\n",
    "\n",
    "#### 1. Why is this attack a privacy risk? \n",
    "\n",
    "#### 2. How could we (IoT device programmers, network operators, etc.) protect people from this attack?"
   ]
  },
  {
   "cell_type": "markdown",
   "metadata": {},
   "source": [
    "## Additional Exercises\n",
    "\n",
    "#### 1. Adjust parameters to improve accuracy.\n",
    "\n",
    "Now that we have a baseline accuracy, we can tweak the data preprocessing and classifier parameters to improve the accuracy. Look back through the code we've run so far. Which values have we set arbitrarily that could affect the results? Try changing these parameters and re-running the code to see how the classification accuracy is affected. Remember to re-run all of the cells below each change (or just restart the kernel and re-run all cells).  "
   ]
  },
  {
   "cell_type": "code",
   "execution_count": null,
   "metadata": {},
   "outputs": [],
   "source": []
  }
 ],
 "metadata": {
  "celltoolbar": "Tags",
  "kernelspec": {
   "display_name": "Python 3 (ipykernel)",
   "language": "python",
   "name": "python3"
  },
  "language_info": {
   "codemirror_mode": {
    "name": "ipython",
    "version": 3
   },
   "file_extension": ".py",
   "mimetype": "text/x-python",
   "name": "python",
   "nbconvert_exporter": "python",
   "pygments_lexer": "ipython3",
   "version": "3.10.8"
  }
 },
 "nbformat": 4,
 "nbformat_minor": 2
}
