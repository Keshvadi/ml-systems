{
 "cells": [
  {
   "cell_type": "markdown",
   "id": "93c0eaba",
   "metadata": {},
   "source": [
    "# Feature Extraction\n",
    "\n",
    "Data representation plays a critical role in the performance of many machine learning methods in machine learning. The data representation of network traffic often determines the effectiveness of these models as much as the model itself. The wide range of novel events that network operators need to detect (e.g., attacks, malware, new applications, changes in traffic demands) introduces the possibility for a broad range of possible models and data representations.\n",
    "\n",
    "[NetML](https://pypi.org/project/netml/) is an open-source tool and end-to-end pipeline for anomaly detection in network traffic. This notebook walks through the use of that library.\n",
    "\n",
    "First, let us load the library."
   ]
  },
  {
   "cell_type": "code",
   "execution_count": 1,
   "id": "9db5fb4d",
   "metadata": {},
   "outputs": [
    {
     "name": "stderr",
     "output_type": "stream",
     "text": [
      "WARNING: No IPv4 address found on anpi1 !\n",
      "WARNING: No IPv4 address found on anpi0 !\n",
      "WARNING: more No IPv4 address found on en3 !\n"
     ]
    }
   ],
   "source": [
    "from netml.pparser.parser import PCAP\n",
    "from netml.utils.tool import dump_data, load_data"
   ]
  },
  {
   "cell_type": "markdown",
   "id": "06145619",
   "metadata": {},
   "source": [
    "## Specify a Packet Capture File\n",
    "\n",
    "Create a pcap data structure for which we would like to extract features. You can define the minumum number of packets that you want to include in each flow."
   ]
  },
  {
   "cell_type": "markdown",
   "id": "b98b68e4",
   "metadata": {},
   "source": [
    "## Convert the Packet Capture Into Flows\n",
    "\n",
    "Find the function in `netml` that converts the pcap file into flows. Examing the resulting data structure. What does it contain?"
   ]
  },
  {
   "cell_type": "markdown",
   "id": "17a41f8a",
   "metadata": {},
   "source": [
    "### Count the Flows\n",
    "\n",
    "How many flows are in your data structure?"
   ]
  },
  {
   "cell_type": "markdown",
   "id": "d81201d3",
   "metadata": {},
   "source": [
    "## Extract Features from Each Flow\n",
    "\n",
    "Use the `netml` library to extract features from each flow. The documentation and [accompanying paper](https://arxiv.org/pdf/2006.16993.pdf) provide examples of features that you can try to extract. First try to extract the inter-arrival times for each flow.\n",
    "\n",
    "### Interarrival Times"
   ]
  },
  {
   "cell_type": "markdown",
   "id": "64eb72fc",
   "metadata": {},
   "source": [
    "### Print the Features\n",
    "\n",
    "Inspect the features for each flow."
   ]
  },
  {
   "cell_type": "code",
   "execution_count": 7,
   "id": "b624ac9b",
   "metadata": {},
   "outputs": [
    {
     "data": {
      "text/plain": [
       "array([[3.47244024e-01, 7.56025314e-04, 4.64078903e-01, ...,\n",
       "        0.00000000e+00, 0.00000000e+00, 0.00000000e+00],\n",
       "       [3.50138903e-01, 2.55107880e-04, 4.32914972e-01, ...,\n",
       "        0.00000000e+00, 0.00000000e+00, 0.00000000e+00],\n",
       "       [5.70064783e-01, 2.50234127e-01, 1.03995309e+01, ...,\n",
       "        0.00000000e+00, 0.00000000e+00, 0.00000000e+00],\n",
       "       ...,\n",
       "       [1.32479668e-02, 1.62124634e-04, 3.94445896e-01, ...,\n",
       "        0.00000000e+00, 0.00000000e+00, 0.00000000e+00],\n",
       "       [1.27911568e-02, 6.77895546e-03, 1.35493279e-03, ...,\n",
       "        0.00000000e+00, 0.00000000e+00, 0.00000000e+00],\n",
       "       [1.31859779e-02, 3.81400824e-01, 2.24113464e-04, ...,\n",
       "        0.00000000e+00, 0.00000000e+00, 0.00000000e+00]])"
      ]
     },
     "execution_count": 7,
     "metadata": {},
     "output_type": "execute_result"
    }
   ],
   "source": [
    "iat_features"
   ]
  },
  {
   "cell_type": "markdown",
   "id": "e30d8332",
   "metadata": {},
   "source": [
    "## Thought Questions\n",
    "\n",
    "What other features might you want to extract from packet captures that are not provided by the `netml` library?"
   ]
  }
 ],
 "metadata": {
  "kernelspec": {
   "display_name": "Python 3 (ipykernel)",
   "language": "python",
   "name": "python3"
  },
  "language_info": {
   "codemirror_mode": {
    "name": "ipython",
    "version": 3
   },
   "file_extension": ".py",
   "mimetype": "text/x-python",
   "name": "python",
   "nbconvert_exporter": "python",
   "pygments_lexer": "ipython3",
   "version": "3.10.7"
  }
 },
 "nbformat": 4,
 "nbformat_minor": 5
}
