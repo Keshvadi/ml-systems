{
 "cells": [
  {
   "cell_type": "markdown",
   "id": "48e877ee",
   "metadata": {},
   "source": [
    "# Feature Extraction\n",
    "\n",
    "Data representation plays a critical role in the performance of many machine learning methods in machine learning. The data representation of network traffic often determines the effectiveness of these models as much as the model itself. The wide range of novel events that network operators need to detect (e.g., attacks, malware, new applications, changes in traffic demands) introduces the possibility for a broad range of possible models and data representations.\n",
    "\n",
    "[NetML](https://pypi.org/project/netml/) is an open-source tool and end-to-end pipeline for anomaly detection in network traffic. This notebook walks through the use of that library.\n",
    "\n",
    "First, let us load the library."
   ]
  },
  {
   "cell_type": "code",
   "execution_count": 1,
   "id": "caa27098",
   "metadata": {},
   "outputs": [],
   "source": [
    "import logging\n",
    "logging.getLogger(\"scapy.runtime\").setLevel(logging.ERROR)\n",
    "\n",
    "from netml.pparser.parser import PCAP\n",
    "from netml.utils.tool import dump_data, load_data"
   ]
  },
  {
   "cell_type": "markdown",
   "id": "551ee159",
   "metadata": {},
   "source": [
    "## Specify a Packet Capture File\n",
    "\n",
    "Create a pcap data structure for which we would like to extract features. You could do this based on the packet capture files that we have been using in previous hands assignments. Any packet capture file will suffice, however.\n",
    "\n",
    "You can define the minumum number of packets that you want to include in each flow."
   ]
  },
  {
   "cell_type": "markdown",
   "id": "838feb39",
   "metadata": {},
   "source": [
    "## Convert the Packet Capture Into Flows\n",
    "\n",
    "Find the function in `netml` that converts the pcap file into flows. Examing the resulting data structure. What does it contain?"
   ]
  },
  {
   "cell_type": "markdown",
   "id": "9f46c6a2",
   "metadata": {},
   "source": [
    "### Count the Flows\n",
    "\n",
    "How many flows are in your data structure?"
   ]
  },
  {
   "cell_type": "markdown",
   "id": "ade1cb95",
   "metadata": {},
   "source": [
    "## Extract Features from Each Flow\n",
    "\n",
    "Use the `netml` library to extract features from each flow. The documentation and [accompanying paper](https://arxiv.org/pdf/2006.16993.pdf) provide examples of features that you can try to extract. First try to extract the inter-arrival times for each flow.\n",
    "\n",
    "### Interarrival Times"
   ]
  },
  {
   "cell_type": "markdown",
   "id": "35371b61",
   "metadata": {},
   "source": [
    "### Print the Features\n",
    "\n",
    "Inspect the features for each flow."
   ]
  },
  {
   "cell_type": "markdown",
   "id": "5ad82cb3",
   "metadata": {},
   "source": [
    "## Thought Questions\n",
    "\n",
    "What other features might you want to extract from packet captures that are not provided by the `netml` library?"
   ]
  }
 ],
 "metadata": {
  "celltoolbar": "Tags",
  "kernelspec": {
   "display_name": "Python 3 (ipykernel)",
   "language": "python",
   "name": "python3"
  },
  "language_info": {
   "codemirror_mode": {
    "name": "ipython",
    "version": 3
   },
   "file_extension": ".py",
   "mimetype": "text/x-python",
   "name": "python",
   "nbconvert_exporter": "python",
   "pygments_lexer": "ipython3",
   "version": "3.10.7"
  }
 },
 "nbformat": 4,
 "nbformat_minor": 5
}
