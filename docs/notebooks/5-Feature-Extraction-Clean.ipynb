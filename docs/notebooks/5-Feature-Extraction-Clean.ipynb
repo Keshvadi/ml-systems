{
 "cells": [
  {
   "cell_type": "markdown",
   "id": "48e877ee",
   "metadata": {},
   "source": [
    "# Feature Extraction\n",
    "\n",
    "Data representation plays a critical role in the performance of many machine learning methods in machine learning. The data representation of network traffic often determines the effectiveness of these models as much as the model itself. The wide range of novel events that network operators need to detect (e.g., attacks, malware, new applications, changes in traffic demands) introduces the possibility for a broad range of possible models and data representations.\n",
    "\n",
    "[NetML](https://pypi.org/project/netml/) is an open-source tool and end-to-end pipeline for anomaly detection in network traffic. This notebook walks through the use of that library.\n",
    "\n",
    "First, let us load the library."
   ]
  },
  {
   "cell_type": "code",
   "execution_count": 1,
   "id": "caa27098",
   "metadata": {},
   "outputs": [],
   "source": [
    "import logging\n",
    "logging.getLogger(\"scapy.runtime\").setLevel(logging.ERROR)\n",
    "\n",
    "from netml.pparser.parser import PCAP\n",
    "from netml.utils.tool import dump_data, load_data\n",
    "\n",
    "import pandas as pd"
   ]
  },
  {
   "cell_type": "markdown",
   "id": "551ee159",
   "metadata": {},
   "source": [
    "## Specify a Packet Capture File\n",
    "\n",
    "Create a pcap data structure for which we would like to extract features. You could do this based on the packet capture files that we have been using in previous hands assignments. Any packet capture file will suffice, however.\n",
    "\n",
    "You can define the minumum number of packets that you want to include in each flow."
   ]
  },
  {
   "cell_type": "markdown",
   "id": "838feb39",
   "metadata": {},
   "source": [
    "## Convert the Packet Capture Into Flows\n",
    "\n",
    "Find the function in `netml` that converts the pcap file into flows. Examing the resulting data structure. What does it contain?"
   ]
  },
  {
   "cell_type": "markdown",
   "id": "9f46c6a2",
   "metadata": {},
   "source": [
    "## Explore the Flows\n",
    "\n",
    "How many flows are in your data structure?"
   ]
  },
  {
   "cell_type": "markdown",
   "id": "11d4657a",
   "metadata": {},
   "source": [
    "What other information does the flow data structure contain, for each flow?"
   ]
  },
  {
   "cell_type": "markdown",
   "id": "ade1cb95",
   "metadata": {},
   "source": [
    "## Extract Features from Each Flow\n",
    "\n",
    "Use the `netml` library to extract features from each flow. \n",
    "\n",
    "The [documentation](https://pypi.org/project/netml/) and [accompanying paper](https://arxiv.org/pdf/2006.16993.pdf) provide examples of features that you can try to extract. \n",
    "\n",
    "First try to extract the inter-arrival times for each flow.\n",
    "\n",
    "### Interarrival Times"
   ]
  },
  {
   "cell_type": "markdown",
   "id": "35371b61",
   "metadata": {},
   "source": [
    "### Explore the Per-Flow Features\n",
    "\n",
    "Inspect and print the features for each flow. (If you feel compelled: Get fancy! Plot distributions, etc. Whatever you like!)"
   ]
  },
  {
   "cell_type": "markdown",
   "id": "9efafa0d",
   "metadata": {},
   "source": [
    "### Other Features and Options\n",
    "\n",
    "1. Try some of the other features in the `netml` library.\n",
    "\n",
    "  Here are some of the other possibilities, which can be passed to the library:\n",
    "  * IAT: A flow is represented as a timeseries of inter-arrival times between packets, i.e., elapsed time in seconds between any two packets in the flow.   \n",
    "  *  STATS: A flow is represented as a set of statistical quantities. We choose ten of the most common such\n",
    "statistics in the literature: flow duration, number of packets sent per second, number of bytes\n",
    "per second, and various statistics on packet sizes within each flow: mean, standard deviation, inter-quartile range,\n",
    "minimum, and maximum.\n",
    "  * SIZE: A flow is represented as a timeseries of packet sizes in bytes, with one sample per packet. \n",
    "  * SAMP-NUM: A flow is partitioned into small intervals of equal length 𝛿𝑡, and the number of packets in each interval is recorded; thus, a flow is represented as a timeseries of packet counts in small time intervals, with one sample per time interval. Here, 𝛿𝑡 might be viewed as a choice of sampling rate for the timeseries, hence the nomenclature.\n",
    "  * SAMP-SIZE: A flow is partitioned into time intervals of equal length 𝛿𝑡, and the total packet size (i.e., byte count) in each interval is recorded; thus, a flow is represented as a timeseries of byte counts in small time intervals, with one sample per time interval.\n",
    "  "
   ]
  },
  {
   "cell_type": "markdown",
   "id": "e5dff652",
   "metadata": {},
   "source": [
    "  \n",
    "2. One of the challenges with providing packet traces to models involve ensuring that all feature vectors are of the same length. The `netml` libary will do that for you, but there are a number of different ways to solve the problem. What do some of the following options do?  Explore how different settings of the following affect the dimensionality of your resulting feature vector.\n",
    "\n",
    " * flow_ptks_thres\n",
    " * q_interval"
   ]
  },
  {
   "cell_type": "markdown",
   "id": "5ad82cb3",
   "metadata": {},
   "source": [
    "## Thought Questions\n",
    "\n",
    "What other features might you want to extract from packet captures that are not provided by the `netml` library?"
   ]
  }
 ],
 "metadata": {
  "kernelspec": {
   "display_name": "Python 3 (ipykernel)",
   "language": "python",
   "name": "python3"
  },
  "language_info": {
   "codemirror_mode": {
    "name": "ipython",
    "version": 3
   },
   "file_extension": ".py",
   "mimetype": "text/x-python",
   "name": "python",
   "nbconvert_exporter": "python",
   "pygments_lexer": "ipython3",
   "version": "3.10.7"
  }
 },
 "nbformat": 4,
 "nbformat_minor": 5
}
