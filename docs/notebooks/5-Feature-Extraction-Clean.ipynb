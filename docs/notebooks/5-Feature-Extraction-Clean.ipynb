{
 "cells": [
  {
   "cell_type": "markdown",
   "id": "1c445bd7",
   "metadata": {},
   "source": [
    "# Feature Extraction\n",
    "\n",
    "Data representation plays a critical role in the performance of many machine learning methods in machine learning. The data representation of network traffic often determines the effectiveness of these models as much as the model itself. The wide range of novel events that network operators need to detect (e.g., attacks, malware, new applications, changes in traffic demands) introduces the possibility for a broad range of possible models and data representations.\n",
    "\n",
    "NetML is an open-source tool and end-to-end pipeline for anomaly detection in network traffic. This notebook walks through the use of that library.\n",
    "\n",
    "First, let us load the library."
   ]
  },
  {
   "cell_type": "code",
   "execution_count": 1,
   "id": "3253bd9c",
   "metadata": {},
   "outputs": [
    {
     "name": "stderr",
     "output_type": "stream",
     "text": [
      "WARNING: No IPv4 address found on anpi1 !\n",
      "WARNING: No IPv4 address found on anpi0 !\n",
      "WARNING: more No IPv4 address found on en3 !\n"
     ]
    }
   ],
   "source": [
    "import warnings\n",
    "warnings.filterwarnings('ignore')\n",
    "\n",
    "from netml.pparser.parser import PCAP\n",
    "from netml.utils.tool import dump_data, load_data"
   ]
  },
  {
   "cell_type": "markdown",
   "id": "2437f7e9",
   "metadata": {},
   "source": [
    "## Specify a Packet Capture File\n",
    "\n",
    "Create a pcap data structure for which we would like to extract features."
   ]
  },
  {
   "cell_type": "markdown",
   "id": "611839df",
   "metadata": {},
   "source": [
    "## Convert the Packet Capture Into Flows\n",
    "\n",
    "Find the function in `netml` that converts the pcap file into flows. Examing the resulting data structure. What does it contain?"
   ]
  },
  {
   "cell_type": "markdown",
   "id": "05d797e1",
   "metadata": {},
   "source": [
    "How many flows are in the data structure?"
   ]
  },
  {
   "cell_type": "markdown",
   "id": "6242d749",
   "metadata": {},
   "source": [
    "## Extract Features from Each Flow\n",
    "\n",
    "Use the `netml` library to extract features from each flow. The documentation and [accompanying paper](https://arxiv.org/pdf/2006.16993.pdf) provide examples of features that you can try to extract."
   ]
  },
  {
   "cell_type": "markdown",
   "id": "12d1a095",
   "metadata": {},
   "source": [
    "## Thought Questions\n",
    "\n",
    "What other features might you "
   ]
  }
 ],
 "metadata": {
  "celltoolbar": "Tags",
  "kernelspec": {
   "display_name": "Python 3 (ipykernel)",
   "language": "python",
   "name": "python3"
  },
  "language_info": {
   "codemirror_mode": {
    "name": "ipython",
    "version": 3
   },
   "file_extension": ".py",
   "mimetype": "text/x-python",
   "name": "python",
   "nbconvert_exporter": "python",
   "pygments_lexer": "ipython3",
   "version": "3.10.7"
  }
 },
 "nbformat": 4,
 "nbformat_minor": 5
}
