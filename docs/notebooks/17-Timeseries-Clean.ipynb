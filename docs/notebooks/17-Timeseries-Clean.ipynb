{
 "cells": [
  {
   "cell_type": "markdown",
   "metadata": {},
   "source": [
    "# Timeseries Anomaly Detection\n",
    "\n",
    "A significant problem that arises in computer networking is the detection of timeseries anomalies. Specifically, data is captured over time, and network operators may wish to detect when metrics from the data deviate from \"normal\" behavior. \n",
    "\n",
    "This activity involves performing timeseries anomaly detection with network performance data captured from a project at University of Chicago, to continually measure network performance metrics, including throughput, latency, DNS lookup times, and so forth.\n",
    "\n",
    "In this hands-on, you will combine various anomaly detection approaches with time-series models including:\n",
    "* Moving Average with Seasonal Decomposition\n",
    "\n",
    "You might also try some of the following methods:\n",
    "* ARIMA \n",
    "* Prophet \n",
    "* changing point detection \n",
    "\n",
    "and apply them to detect anomalous performance in network measurements of latency and bandwidth data from 85 Chicago households. The data for this hands-on activity is available [here](https://drive.google.com/file/d/1UECNfRXUide5oZpsyLWq2K4g1xkS4_YO/view)."
   ]
  },
  {
   "cell_type": "code",
   "execution_count": 1,
   "metadata": {},
   "outputs": [],
   "source": [
    "import pandas as pd\n",
    "import seaborn as sns\n",
    "import matplotlib.pyplot as plt\n",
    "import numpy as np\n",
    "from datetime import datetime"
   ]
  },
  {
   "cell_type": "markdown",
   "metadata": {},
   "source": [
    "## Load and Explore Data\n",
    "\n",
    "This pickle file has measurement data of various types, from different IDs, to different destinations. The data is also aggregated in various ways, as indicated in the `method` column."
   ]
  },
  {
   "cell_type": "code",
   "execution_count": 2,
   "metadata": {},
   "outputs": [
    {
     "data": {
      "text/html": [
       "<div>\n",
       "<style scoped>\n",
       "    .dataframe tbody tr th:only-of-type {\n",
       "        vertical-align: middle;\n",
       "    }\n",
       "\n",
       "    .dataframe tbody tr th {\n",
       "        vertical-align: top;\n",
       "    }\n",
       "\n",
       "    .dataframe thead th {\n",
       "        text-align: right;\n",
       "    }\n",
       "</style>\n",
       "<table border=\"1\" class=\"dataframe\">\n",
       "  <thead>\n",
       "    <tr style=\"text-align: right;\">\n",
       "      <th></th>\n",
       "      <th>Time</th>\n",
       "      <th>RTT</th>\n",
       "      <th>Measurement</th>\n",
       "      <th>ID</th>\n",
       "      <th>Destination</th>\n",
       "      <th>Method</th>\n",
       "      <th>Time_clean</th>\n",
       "    </tr>\n",
       "  </thead>\n",
       "  <tbody>\n",
       "    <tr>\n",
       "      <th>2532502</th>\n",
       "      <td>2021-09-30 19:00</td>\n",
       "      <td>8.775</td>\n",
       "      <td>ping_latency</td>\n",
       "      <td>nm-mngd-20210623-1b49a7fa</td>\n",
       "      <td>google</td>\n",
       "      <td>Avg</td>\n",
       "      <td>2021-09-30 19:00:00</td>\n",
       "    </tr>\n",
       "    <tr>\n",
       "      <th>2432051</th>\n",
       "      <td>2021-09-30 19:00</td>\n",
       "      <td>10.977</td>\n",
       "      <td>ping_latency</td>\n",
       "      <td>nm-mngd-20210511-9d9824d4</td>\n",
       "      <td>google</td>\n",
       "      <td>Avg</td>\n",
       "      <td>2021-09-30 19:00:00</td>\n",
       "    </tr>\n",
       "    <tr>\n",
       "      <th>2504516</th>\n",
       "      <td>2021-09-30 19:00</td>\n",
       "      <td>9.244</td>\n",
       "      <td>ping_latency</td>\n",
       "      <td>nm-mngd-20210519-84594993</td>\n",
       "      <td>google</td>\n",
       "      <td>Avg</td>\n",
       "      <td>2021-09-30 19:00:00</td>\n",
       "    </tr>\n",
       "    <tr>\n",
       "      <th>2451551</th>\n",
       "      <td>2021-09-30 19:00</td>\n",
       "      <td>9.510</td>\n",
       "      <td>ping_latency</td>\n",
       "      <td>nm-mngd-20210518-075ab2f0</td>\n",
       "      <td>google</td>\n",
       "      <td>Avg</td>\n",
       "      <td>2021-09-30 19:00:00</td>\n",
       "    </tr>\n",
       "    <tr>\n",
       "      <th>2536760</th>\n",
       "      <td>2021-09-30 19:00</td>\n",
       "      <td>9.634</td>\n",
       "      <td>ping_latency</td>\n",
       "      <td>nm-mngd-20210623-d9aab537</td>\n",
       "      <td>google</td>\n",
       "      <td>Avg</td>\n",
       "      <td>2021-09-30 19:00:00</td>\n",
       "    </tr>\n",
       "  </tbody>\n",
       "</table>\n",
       "</div>"
      ],
      "text/plain": [
       "                     Time     RTT   Measurement                         ID  \\\n",
       "2532502  2021-09-30 19:00   8.775  ping_latency  nm-mngd-20210623-1b49a7fa   \n",
       "2432051  2021-09-30 19:00  10.977  ping_latency  nm-mngd-20210511-9d9824d4   \n",
       "2504516  2021-09-30 19:00   9.244  ping_latency  nm-mngd-20210519-84594993   \n",
       "2451551  2021-09-30 19:00   9.510  ping_latency  nm-mngd-20210518-075ab2f0   \n",
       "2536760  2021-09-30 19:00   9.634  ping_latency  nm-mngd-20210623-d9aab537   \n",
       "\n",
       "        Destination Method          Time_clean  \n",
       "2532502      google    Avg 2021-09-30 19:00:00  \n",
       "2432051      google    Avg 2021-09-30 19:00:00  \n",
       "2504516      google    Avg 2021-09-30 19:00:00  \n",
       "2451551      google    Avg 2021-09-30 19:00:00  \n",
       "2536760      google    Avg 2021-09-30 19:00:00  "
      ]
     },
     "execution_count": 2,
     "metadata": {},
     "output_type": "execute_result"
    }
   ],
   "source": [
    "df = pd.read_pickle('data/5m_data.pkl')\n",
    "df.sort_values(by='Time_clean', inplace=True)\n",
    "df.head(5)"
   ]
  },
  {
   "cell_type": "markdown",
   "metadata": {},
   "source": [
    "### Compute an Hour-by-Hour Average RTT\n",
    "\n",
    "Compute an hour-by-hour average RTT for each destination."
   ]
  },
  {
   "cell_type": "markdown",
   "metadata": {},
   "source": [
    "### Decompose Data and Return the Residuals\n",
    "\n",
    "The function below performs seasonal decomposition using moving averages. Also, calculate the Moving Average, One and Two Standard Deviations."
   ]
  },
  {
   "cell_type": "markdown",
   "metadata": {},
   "source": [
    "### Anomaly Detection\n",
    "\n",
    "1. Perform decomposition\n",
    "2. Compute moving averages\n",
    "3. Declare anomalies where the residual is more than 2 standard deviations away from the moving average"
   ]
  },
  {
   "cell_type": "markdown",
   "metadata": {},
   "source": [
    "### Count the Number of Anomalies per Date\n",
    "\n",
    "Count and plot the number of anomalies to date."
   ]
  }
 ],
 "metadata": {
  "celltoolbar": "Tags",
  "kernelspec": {
   "display_name": "Python 3 (ipykernel)",
   "language": "python",
   "name": "python3"
  },
  "language_info": {
   "codemirror_mode": {
    "name": "ipython",
    "version": 3
   },
   "file_extension": ".py",
   "mimetype": "text/x-python",
   "name": "python",
   "nbconvert_exporter": "python",
   "pygments_lexer": "ipython3",
   "version": "3.10.8"
  }
 },
 "nbformat": 4,
 "nbformat_minor": 4
}
