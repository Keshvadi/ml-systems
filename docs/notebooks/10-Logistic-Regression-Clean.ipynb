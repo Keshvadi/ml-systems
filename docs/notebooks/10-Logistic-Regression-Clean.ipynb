{
 "cells": [
  {
   "cell_type": "markdown",
   "metadata": {},
   "source": [
    "## Logistic Regression\n",
    "\n",
    "Logistic Regression is very similar to linear regression, except all of the points can only have $y$-values of $1$ or $0$. This is useful if we want to predict whether something is or isn't part of a particular class. Instead of fitting a line (as in linear regression), logistic regression involves fitting a probability curve.\n",
    "\n",
    "For example, using our device traffic, let's see whether we can predict a DNS packet is request or response from its length. \n",
    "\n",
    "First, let's import the data, extract only the DNS packets, and view the first few packets."
   ]
  },
  {
   "cell_type": "code",
   "execution_count": 1,
   "metadata": {},
   "outputs": [],
   "source": [
    "# Pandas, Numpy\n",
    "import numpy as np\n",
    "import pandas as pd\n",
    "\n",
    "import logging\n",
    "logging.getLogger(\"scapy.runtime\").setLevel(logging.ERROR)\n",
    "\n",
    "# Machine Learning\n",
    "from sklearn.linear_model import LogisticRegression, LogisticRegressionCV\n",
    "\n",
    "# Plotting\n",
    "import matplotlib.pyplot as plt\n",
    "%matplotlib inline\n",
    "\n",
    "import sys\n",
    "sys.path.insert(1,\"/Users/feamster/research/netml/src/\")\n",
    "import netml\n",
    "from netml.pparser.parser import PCAP"
   ]
  },
  {
   "cell_type": "code",
   "execution_count": 15,
   "metadata": {},
   "outputs": [
    {
     "name": "stdout",
     "output_type": "stream",
     "text": [
      "'_pcap_to_pandas()' starts at 2022-10-28 19:31:14\n",
      "'_pcap_to_pandas()' ends at 2022-10-28 19:31:21 and takes 0.1198 mins.\n"
     ]
    }
   ],
   "source": [
    "#hpcap = PCAP('/Users/feamster/Documents/teaching/ml-networking/activities/pcaps/google_home.pcap', flow_ptks_thres=2, verbose=10)\n",
    "hpcap = PCAP('data/http.pcap', flow_ptks_thres=2, verbose=10)\n",
    "\n",
    "hpcap.pcap_to_pandas()\n",
    "pcap = hpcap.df"
   ]
  },
  {
   "cell_type": "markdown",
   "metadata": {},
   "source": [
    "Each row in the printed data is a packet and each column is a feature of the packet.\n",
    "\n",
    "Next let's divide the DNS packets into requests and repsonses, and convert them into points where the $x$-value is the length of the packet and $y$-value is $0$ for requests and $1$ for responses. This will allow us to fit the data to a logistic regression curve."
   ]
  },
  {
   "cell_type": "markdown",
   "metadata": {},
   "source": [
    "Let's see how many data points we have."
   ]
  },
  {
   "cell_type": "markdown",
   "metadata": {},
   "source": [
    "Next we will convert the DNS response column into a 0/1 value so that it is amenable to logstic regression."
   ]
  },
  {
   "cell_type": "code",
   "execution_count": 21,
   "metadata": {},
   "outputs": [
    {
     "data": {
      "text/html": [
       "<style>#sk-container-id-2 {color: black;background-color: white;}#sk-container-id-2 pre{padding: 0;}#sk-container-id-2 div.sk-toggleable {background-color: white;}#sk-container-id-2 label.sk-toggleable__label {cursor: pointer;display: block;width: 100%;margin-bottom: 0;padding: 0.3em;box-sizing: border-box;text-align: center;}#sk-container-id-2 label.sk-toggleable__label-arrow:before {content: \"▸\";float: left;margin-right: 0.25em;color: #696969;}#sk-container-id-2 label.sk-toggleable__label-arrow:hover:before {color: black;}#sk-container-id-2 div.sk-estimator:hover label.sk-toggleable__label-arrow:before {color: black;}#sk-container-id-2 div.sk-toggleable__content {max-height: 0;max-width: 0;overflow: hidden;text-align: left;background-color: #f0f8ff;}#sk-container-id-2 div.sk-toggleable__content pre {margin: 0.2em;color: black;border-radius: 0.25em;background-color: #f0f8ff;}#sk-container-id-2 input.sk-toggleable__control:checked~div.sk-toggleable__content {max-height: 200px;max-width: 100%;overflow: auto;}#sk-container-id-2 input.sk-toggleable__control:checked~label.sk-toggleable__label-arrow:before {content: \"▾\";}#sk-container-id-2 div.sk-estimator input.sk-toggleable__control:checked~label.sk-toggleable__label {background-color: #d4ebff;}#sk-container-id-2 div.sk-label input.sk-toggleable__control:checked~label.sk-toggleable__label {background-color: #d4ebff;}#sk-container-id-2 input.sk-hidden--visually {border: 0;clip: rect(1px 1px 1px 1px);clip: rect(1px, 1px, 1px, 1px);height: 1px;margin: -1px;overflow: hidden;padding: 0;position: absolute;width: 1px;}#sk-container-id-2 div.sk-estimator {font-family: monospace;background-color: #f0f8ff;border: 1px dotted black;border-radius: 0.25em;box-sizing: border-box;margin-bottom: 0.5em;}#sk-container-id-2 div.sk-estimator:hover {background-color: #d4ebff;}#sk-container-id-2 div.sk-parallel-item::after {content: \"\";width: 100%;border-bottom: 1px solid gray;flex-grow: 1;}#sk-container-id-2 div.sk-label:hover label.sk-toggleable__label {background-color: #d4ebff;}#sk-container-id-2 div.sk-serial::before {content: \"\";position: absolute;border-left: 1px solid gray;box-sizing: border-box;top: 0;bottom: 0;left: 50%;z-index: 0;}#sk-container-id-2 div.sk-serial {display: flex;flex-direction: column;align-items: center;background-color: white;padding-right: 0.2em;padding-left: 0.2em;position: relative;}#sk-container-id-2 div.sk-item {position: relative;z-index: 1;}#sk-container-id-2 div.sk-parallel {display: flex;align-items: stretch;justify-content: center;background-color: white;position: relative;}#sk-container-id-2 div.sk-item::before, #sk-container-id-2 div.sk-parallel-item::before {content: \"\";position: absolute;border-left: 1px solid gray;box-sizing: border-box;top: 0;bottom: 0;left: 50%;z-index: -1;}#sk-container-id-2 div.sk-parallel-item {display: flex;flex-direction: column;z-index: 1;position: relative;background-color: white;}#sk-container-id-2 div.sk-parallel-item:first-child::after {align-self: flex-end;width: 50%;}#sk-container-id-2 div.sk-parallel-item:last-child::after {align-self: flex-start;width: 50%;}#sk-container-id-2 div.sk-parallel-item:only-child::after {width: 0;}#sk-container-id-2 div.sk-dashed-wrapped {border: 1px dashed gray;margin: 0 0.4em 0.5em 0.4em;box-sizing: border-box;padding-bottom: 0.4em;background-color: white;}#sk-container-id-2 div.sk-label label {font-family: monospace;font-weight: bold;display: inline-block;line-height: 1.2em;}#sk-container-id-2 div.sk-label-container {text-align: center;}#sk-container-id-2 div.sk-container {/* jupyter's `normalize.less` sets `[hidden] { display: none; }` but bootstrap.min.css set `[hidden] { display: none !important; }` so we also need the `!important` here to be able to override the default hidden behavior on the sphinx rendered scikit-learn.org. See: https://github.com/scikit-learn/scikit-learn/issues/21755 */display: inline-block !important;position: relative;}#sk-container-id-2 div.sk-text-repr-fallback {display: none;}</style><div id=\"sk-container-id-2\" class=\"sk-top-container\"><div class=\"sk-text-repr-fallback\"><pre>LogisticRegression(C=1)</pre><b>In a Jupyter environment, please rerun this cell to show the HTML representation or trust the notebook. <br />On GitHub, the HTML representation is unable to render, please try loading this page with nbviewer.org.</b></div><div class=\"sk-container\" hidden><div class=\"sk-item\"><div class=\"sk-estimator sk-toggleable\"><input class=\"sk-toggleable__control sk-hidden--visually\" id=\"sk-estimator-id-2\" type=\"checkbox\" checked><label for=\"sk-estimator-id-2\" class=\"sk-toggleable__label sk-toggleable__label-arrow\">LogisticRegression</label><div class=\"sk-toggleable__content\"><pre>LogisticRegression(C=1)</pre></div></div></div></div></div>"
      ],
      "text/plain": [
       "LogisticRegression(C=1)"
      ]
     },
     "execution_count": 21,
     "metadata": {},
     "output_type": "execute_result"
    }
   ],
   "source": [
    "regr = LogisticRegression(solver='lbfgs', C=1)\n",
    "regr.fit(x.reshape(-1,1),y)"
   ]
  },
  {
   "cell_type": "markdown",
   "metadata": {},
   "source": [
    "---\n",
    "\n",
    "## Model Selection/Cross Validation\n",
    "\n",
    "How do we know we have a good model? How do we know that the machine learning algorithm is \"good\"?\n",
    "\n",
    "We can perform a K-fold cross-validaion on the data: \n",
    "* holding out 1/K of the data for testing, \n",
    "* training on the reamining data, \n",
    "* repeating this K times, one for each fold\n",
    "* averaging the resulting accuracy/score of the model"
   ]
  },
  {
   "cell_type": "code",
   "execution_count": 10,
   "metadata": {},
   "outputs": [],
   "source": [
    "from sklearn.model_selection import KFold, cross_val_score\n",
    "\n",
    "kf = KFold(n_splits=5)\n",
    "\n",
    "cv_results = cross_val_score(regr,\n",
    "                             x.reshape(-1,1),\n",
    "                             y,\n",
    "                             cv=kf,\n",
    "                             scoring=\"accuracy\")"
   ]
  },
  {
   "cell_type": "code",
   "execution_count": 11,
   "metadata": {},
   "outputs": [
    {
     "data": {
      "text/plain": [
       "array([0.86446886, 0.93014706, 0.9375    , 0.86029412, 0.70220588])"
      ]
     },
     "execution_count": 11,
     "metadata": {},
     "output_type": "execute_result"
    }
   ],
   "source": [
    "cv_results"
   ]
  },
  {
   "cell_type": "code",
   "execution_count": 12,
   "metadata": {},
   "outputs": [
    {
     "data": {
      "text/plain": [
       "0.8589231846584788"
      ]
     },
     "execution_count": 12,
     "metadata": {},
     "output_type": "execute_result"
    }
   ],
   "source": [
    "cv_results.mean()"
   ]
  },
  {
   "cell_type": "markdown",
   "metadata": {},
   "source": [
    "### Hyper-Parameter Tuning: Grid Search\n",
    "\n",
    "Grid search can allow for hyper-parameter tuning, with cross validation, such as a the k-fold cross validation that we just performed.  The search performs the evaluation above, automating the search through the set of all possible parameters dedined in the grid.\n",
    "\n",
    "The resulting model is returned as a result, and a model can be generated from the training data by calling `fit` on the results of the search."
   ]
  },
  {
   "cell_type": "code",
   "execution_count": 13,
   "metadata": {},
   "outputs": [],
   "source": [
    "from sklearn.model_selection import GridSearchCV\n",
    "\n",
    "k = 5\n",
    "C_range = np.arange(1,5,1)\n",
    "params = {\n",
    "    'C': C_range,\n",
    "}\n",
    "\n",
    "grid_model = GridSearchCV(estimator=regr,\n",
    "                          param_grid=params,\n",
    "                          cv=k,\n",
    "                          return_train_score=True,\n",
    "                          scoring='accuracy'                        )\n",
    "\n",
    "grid_model_result = grid_model.fit(x.reshape(-1,1),y)"
   ]
  },
  {
   "cell_type": "code",
   "execution_count": 14,
   "metadata": {},
   "outputs": [
    {
     "data": {
      "text/html": [
       "<div>\n",
       "<style scoped>\n",
       "    .dataframe tbody tr th:only-of-type {\n",
       "        vertical-align: middle;\n",
       "    }\n",
       "\n",
       "    .dataframe tbody tr th {\n",
       "        vertical-align: top;\n",
       "    }\n",
       "\n",
       "    .dataframe thead th {\n",
       "        text-align: right;\n",
       "    }\n",
       "</style>\n",
       "<table border=\"1\" class=\"dataframe\">\n",
       "  <thead>\n",
       "    <tr style=\"text-align: right;\">\n",
       "      <th></th>\n",
       "      <th>mean_fit_time</th>\n",
       "      <th>std_fit_time</th>\n",
       "      <th>mean_score_time</th>\n",
       "      <th>std_score_time</th>\n",
       "      <th>param_C</th>\n",
       "      <th>params</th>\n",
       "      <th>split0_test_score</th>\n",
       "      <th>split1_test_score</th>\n",
       "      <th>split2_test_score</th>\n",
       "      <th>split3_test_score</th>\n",
       "      <th>...</th>\n",
       "      <th>mean_test_score</th>\n",
       "      <th>std_test_score</th>\n",
       "      <th>rank_test_score</th>\n",
       "      <th>split0_train_score</th>\n",
       "      <th>split1_train_score</th>\n",
       "      <th>split2_train_score</th>\n",
       "      <th>split3_train_score</th>\n",
       "      <th>split4_train_score</th>\n",
       "      <th>mean_train_score</th>\n",
       "      <th>std_train_score</th>\n",
       "    </tr>\n",
       "  </thead>\n",
       "  <tbody>\n",
       "    <tr>\n",
       "      <th>0</th>\n",
       "      <td>0.004232</td>\n",
       "      <td>0.000996</td>\n",
       "      <td>0.000261</td>\n",
       "      <td>0.000069</td>\n",
       "      <td>1</td>\n",
       "      <td>{'C': 1}</td>\n",
       "      <td>0.857143</td>\n",
       "      <td>0.922794</td>\n",
       "      <td>0.963235</td>\n",
       "      <td>0.834559</td>\n",
       "      <td>...</td>\n",
       "      <td>0.855987</td>\n",
       "      <td>0.089526</td>\n",
       "      <td>1</td>\n",
       "      <td>0.859375</td>\n",
       "      <td>0.853076</td>\n",
       "      <td>0.836547</td>\n",
       "      <td>0.86685</td>\n",
       "      <td>0.890725</td>\n",
       "      <td>0.861315</td>\n",
       "      <td>0.01778</td>\n",
       "    </tr>\n",
       "    <tr>\n",
       "      <th>1</th>\n",
       "      <td>0.003454</td>\n",
       "      <td>0.000193</td>\n",
       "      <td>0.000209</td>\n",
       "      <td>0.000025</td>\n",
       "      <td>2</td>\n",
       "      <td>{'C': 2}</td>\n",
       "      <td>0.857143</td>\n",
       "      <td>0.922794</td>\n",
       "      <td>0.963235</td>\n",
       "      <td>0.834559</td>\n",
       "      <td>...</td>\n",
       "      <td>0.855987</td>\n",
       "      <td>0.089526</td>\n",
       "      <td>1</td>\n",
       "      <td>0.859375</td>\n",
       "      <td>0.853076</td>\n",
       "      <td>0.836547</td>\n",
       "      <td>0.86685</td>\n",
       "      <td>0.890725</td>\n",
       "      <td>0.861315</td>\n",
       "      <td>0.01778</td>\n",
       "    </tr>\n",
       "    <tr>\n",
       "      <th>2</th>\n",
       "      <td>0.003394</td>\n",
       "      <td>0.000158</td>\n",
       "      <td>0.000191</td>\n",
       "      <td>0.000021</td>\n",
       "      <td>3</td>\n",
       "      <td>{'C': 3}</td>\n",
       "      <td>0.857143</td>\n",
       "      <td>0.922794</td>\n",
       "      <td>0.963235</td>\n",
       "      <td>0.834559</td>\n",
       "      <td>...</td>\n",
       "      <td>0.855987</td>\n",
       "      <td>0.089526</td>\n",
       "      <td>1</td>\n",
       "      <td>0.859375</td>\n",
       "      <td>0.853076</td>\n",
       "      <td>0.836547</td>\n",
       "      <td>0.86685</td>\n",
       "      <td>0.890725</td>\n",
       "      <td>0.861315</td>\n",
       "      <td>0.01778</td>\n",
       "    </tr>\n",
       "    <tr>\n",
       "      <th>3</th>\n",
       "      <td>0.003095</td>\n",
       "      <td>0.000080</td>\n",
       "      <td>0.000145</td>\n",
       "      <td>0.000004</td>\n",
       "      <td>4</td>\n",
       "      <td>{'C': 4}</td>\n",
       "      <td>0.857143</td>\n",
       "      <td>0.922794</td>\n",
       "      <td>0.963235</td>\n",
       "      <td>0.834559</td>\n",
       "      <td>...</td>\n",
       "      <td>0.855987</td>\n",
       "      <td>0.089526</td>\n",
       "      <td>1</td>\n",
       "      <td>0.859375</td>\n",
       "      <td>0.853076</td>\n",
       "      <td>0.836547</td>\n",
       "      <td>0.86685</td>\n",
       "      <td>0.890725</td>\n",
       "      <td>0.861315</td>\n",
       "      <td>0.01778</td>\n",
       "    </tr>\n",
       "  </tbody>\n",
       "</table>\n",
       "<p>4 rows × 21 columns</p>\n",
       "</div>"
      ],
      "text/plain": [
       "   mean_fit_time  std_fit_time  mean_score_time  std_score_time param_C  \\\n",
       "0       0.004232      0.000996         0.000261        0.000069       1   \n",
       "1       0.003454      0.000193         0.000209        0.000025       2   \n",
       "2       0.003394      0.000158         0.000191        0.000021       3   \n",
       "3       0.003095      0.000080         0.000145        0.000004       4   \n",
       "\n",
       "     params  split0_test_score  split1_test_score  split2_test_score  \\\n",
       "0  {'C': 1}           0.857143           0.922794           0.963235   \n",
       "1  {'C': 2}           0.857143           0.922794           0.963235   \n",
       "2  {'C': 3}           0.857143           0.922794           0.963235   \n",
       "3  {'C': 4}           0.857143           0.922794           0.963235   \n",
       "\n",
       "   split3_test_score  ...  mean_test_score  std_test_score  rank_test_score  \\\n",
       "0           0.834559  ...         0.855987        0.089526                1   \n",
       "1           0.834559  ...         0.855987        0.089526                1   \n",
       "2           0.834559  ...         0.855987        0.089526                1   \n",
       "3           0.834559  ...         0.855987        0.089526                1   \n",
       "\n",
       "   split0_train_score  split1_train_score  split2_train_score  \\\n",
       "0            0.859375            0.853076            0.836547   \n",
       "1            0.859375            0.853076            0.836547   \n",
       "2            0.859375            0.853076            0.836547   \n",
       "3            0.859375            0.853076            0.836547   \n",
       "\n",
       "   split3_train_score  split4_train_score  mean_train_score  std_train_score  \n",
       "0             0.86685            0.890725          0.861315          0.01778  \n",
       "1             0.86685            0.890725          0.861315          0.01778  \n",
       "2             0.86685            0.890725          0.861315          0.01778  \n",
       "3             0.86685            0.890725          0.861315          0.01778  \n",
       "\n",
       "[4 rows x 21 columns]"
      ]
     },
     "execution_count": 14,
     "metadata": {},
     "output_type": "execute_result"
    }
   ],
   "source": [
    "cv_results = pd.DataFrame(grid_model.cv_results_)\n",
    "cv_results"
   ]
  }
 ],
 "metadata": {
  "kernelspec": {
   "display_name": "Python 3 (ipykernel)",
   "language": "python",
   "name": "python3"
  },
  "language_info": {
   "codemirror_mode": {
    "name": "ipython",
    "version": 3
   },
   "file_extension": ".py",
   "mimetype": "text/x-python",
   "name": "python",
   "nbconvert_exporter": "python",
   "pygments_lexer": "ipython3",
   "version": "3.10.8"
  }
 },
 "nbformat": 4,
 "nbformat_minor": 2
}
