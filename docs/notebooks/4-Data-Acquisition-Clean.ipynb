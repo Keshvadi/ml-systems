{
 "cells": [
  {
   "cell_type": "markdown",
   "id": "0de53ab8",
   "metadata": {},
   "source": [
    "# Data Acquisition\n",
    "\n",
    "In this lab, we will explore the process of data acquisition. \n",
    "\n",
    "In the case of *passive* network traffic analysis, there are generally two primary ways of acquiring data:\n",
    "* Packet capture\n",
    "* Network traffic flows (sometimes called IPFIX)\n",
    "\n",
    "The advent of more programmability in networks is quickly changing this landscape. \n",
    "\n",
    "In particular, systems like Retina are now making it possible to ask more complex questions of network traffic from passive traffic capture and analysis but the general underlying traffic patterns are still based on raw packet capture.\n",
    "\n",
    "## Background\n",
    "\n",
    "Because packet captures are so large, it can sometimes be convenient to work with summary statistics about network traffic. Instead of the raw packets, data could represent the total number of bytes, packets, and so forth for flows. \n",
    "\n",
    "Raw traffic capture is thus sometimes represented as summaries of flow statistics, rather than raw packet traces. In this activity, we will *generate* the summary statistics and then think about what types of information is (and is not) available in a packet trace summary vs. a raw packet capture."
   ]
  },
  {
   "cell_type": "markdown",
   "id": "cb0ca5f5",
   "metadata": {},
   "source": [
    "## Step 1: Load a Packet Trace\n",
    "\n",
    "Load the packet capture from the last assignment."
   ]
  },
  {
   "cell_type": "code",
   "execution_count": 17,
   "id": "6c290dca",
   "metadata": {},
   "outputs": [
    {
     "data": {
      "text/plain": [
       "(141471, 7)"
      ]
     },
     "execution_count": 17,
     "metadata": {},
     "output_type": "execute_result"
    }
   ],
   "source": [
    "import pandas as pd\n",
    "\n",
    "ndf = pd.read_csv(\"data/netflix.csv.gz\")\n",
    "ndf.head(20)\n",
    "ndf.shape"
   ]
  },
  {
   "cell_type": "markdown",
   "id": "7b2a2bc1",
   "metadata": {},
   "source": [
    "## Step 2: Generate Statistics for Each Flow\n",
    "\n",
    "A **flow** is defined as groups of packets that share the following attributes:\n",
    "* Source IP Address\n",
    "* Destination IP Address\n",
    "* Source Port\n",
    "* Destination Port\n",
    "* Time interval\n",
    "\n",
    "The csv file we used in the past assignments do not have port numbers, so you can simply group on source and destination IP address.\n",
    "\n",
    "For each flow in the packet trace, generate the following statistics for each flow:\n",
    "\n",
    "* Number of bytes\n",
    "* Number of packets\n",
    "* Duration (time)"
   ]
  },
  {
   "cell_type": "markdown",
   "id": "560e052f",
   "metadata": {},
   "source": [
    "### Number of Bytes"
   ]
  },
  {
   "cell_type": "markdown",
   "id": "01242cf4",
   "metadata": {},
   "source": [
    "### Number of Packets"
   ]
  },
  {
   "cell_type": "markdown",
   "id": "2852f8cc",
   "metadata": {},
   "source": [
    "### Duration"
   ]
  },
  {
   "cell_type": "markdown",
   "id": "64a28110",
   "metadata": {},
   "source": [
    "## Thought Questions\n",
    "\n",
    "1. What are the largest flows in terms of: Number of bytes? Number of packets?\n",
    "\n",
    "2. What do you notice about the flow sizes and the directions of flows?\n",
    "\n",
    "3. What kinds of features are *not* available in packet summary statistics like those above which might be available in a raw packet trace? How might those features be useful for different packet classification problems?"
   ]
  }
 ],
 "metadata": {
  "celltoolbar": "Tags",
  "kernelspec": {
   "display_name": "Python 3 (ipykernel)",
   "language": "python",
   "name": "python3"
  },
  "language_info": {
   "codemirror_mode": {
    "name": "ipython",
    "version": 3
   },
   "file_extension": ".py",
   "mimetype": "text/x-python",
   "name": "python",
   "nbconvert_exporter": "python",
   "pygments_lexer": "ipython3",
   "version": "3.10.7"
  }
 },
 "nbformat": 4,
 "nbformat_minor": 5
}
