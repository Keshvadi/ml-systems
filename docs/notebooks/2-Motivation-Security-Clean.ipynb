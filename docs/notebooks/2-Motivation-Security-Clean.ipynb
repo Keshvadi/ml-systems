{
 "cells": [
  {
   "cell_type": "markdown",
   "id": "61cd81be",
   "metadata": {},
   "source": [
    "# Motivation: Network Security\n",
    "\n",
    "By now, you have explored how to peform a simple analysis of a network packet capture. In this hands-on activity, you will explore two network packet captures: (1) A network packet trace containing a network scan. (2) A regular network packet trace with no abnormal or malicious activity.\n",
    "\n",
    "We will not (yet) apply machine learning models to this data. The purpose of this assignment is to give you more experience manipulating network data, but also to think about the types of features in network security incidents that might lend themselves to automated detection of anomalies and attacks.\n",
    "\n",
    "## Learning Objectives\n",
    "\n",
    "By the end of this hands-on assignment, you should learn the following:\n",
    "\n",
    "1. Gain more experience with network traffic traces.\n",
    "2. Explore the properties of a \"normal\" and \"abnormal\" network traffic trace.\n",
    "3. Think about how these properties differ, and how you might design an automated detection.\n",
    "\n",
    "After these steps, we'll be ready to start thinking about the role of machine learning in solving some of these problems."
   ]
  },
  {
   "cell_type": "markdown",
   "id": "61578ca4",
   "metadata": {},
   "source": [
    "## Background: Log4j Vulnerability\n",
    "\n",
    "The Log4j vulnerability is a vulnerability to Apache Web servers that resulted in the ability to execute remote code on the victim computer. After a successful attack, an attacker may also be able to steal data from the victim computer. \n",
    "\n",
    "One of the precursors to many remote exploits is a process called *scanning*, whereby an attacker sends traffic to remote destinations on the Internet in an attempt to find vulnerable machines to attack. \n",
    "\n",
    "Because the Log4j vulnerability is a remote web server vulnerability, the attack in fact looks like a sequence of web requests, although the sequence will certainly look different than that of a normal web trace.\n",
    "\n",
    "In addition to the Log4j web trace, I took a short packet trace of web traffic from my home. In this hands-on activity, we'll compare the two and reflect on the differences."
   ]
  },
  {
   "cell_type": "markdown",
   "id": "f14206f4",
   "metadata": {},
   "source": [
    "## Part 1: Load and Explore the Traffic Traces\n",
    "\n",
    "Load the two traffic traces, available in the course Github repository."
   ]
  },
  {
   "cell_type": "markdown",
   "id": "29cb29b0",
   "metadata": {},
   "source": [
    "### Sanity Checks\n",
    "\n",
    "Take a quick look at the data to make sure it loaded correctly."
   ]
  },
  {
   "cell_type": "code",
   "execution_count": 2,
   "id": "bd34e221",
   "metadata": {
    "scrolled": true
   },
   "outputs": [
    {
     "data": {
      "text/html": [
       "<div>\n",
       "<style scoped>\n",
       "    .dataframe tbody tr th:only-of-type {\n",
       "        vertical-align: middle;\n",
       "    }\n",
       "\n",
       "    .dataframe tbody tr th {\n",
       "        vertical-align: top;\n",
       "    }\n",
       "\n",
       "    .dataframe thead th {\n",
       "        text-align: right;\n",
       "    }\n",
       "</style>\n",
       "<table border=\"1\" class=\"dataframe\">\n",
       "  <thead>\n",
       "    <tr style=\"text-align: right;\">\n",
       "      <th></th>\n",
       "      <th>No.</th>\n",
       "      <th>Time</th>\n",
       "      <th>Source</th>\n",
       "      <th>Destination</th>\n",
       "      <th>Protocol</th>\n",
       "      <th>Length</th>\n",
       "      <th>Info</th>\n",
       "    </tr>\n",
       "  </thead>\n",
       "  <tbody>\n",
       "    <tr>\n",
       "      <th>0</th>\n",
       "      <td>1</td>\n",
       "      <td>2021-12-15 15:35:00.237882</td>\n",
       "      <td>zl-lax-us-gp3-wk106b.internet-census.org</td>\n",
       "      <td>91.247.71.198.host.secureserver.net</td>\n",
       "      <td>TCP</td>\n",
       "      <td>74</td>\n",
       "      <td>57468 &gt; 80 [SYN] Seq=0 Win=29200 Len=0 MSS=146...</td>\n",
       "    </tr>\n",
       "    <tr>\n",
       "      <th>1</th>\n",
       "      <td>2</td>\n",
       "      <td>2021-12-15 15:35:00.237939</td>\n",
       "      <td>91.247.71.198.host.secureserver.net</td>\n",
       "      <td>zl-lax-us-gp3-wk106b.internet-census.org</td>\n",
       "      <td>TCP</td>\n",
       "      <td>74</td>\n",
       "      <td>80 &gt; 57468 [SYN, ACK] Seq=0 Ack=1 Win=65160 Le...</td>\n",
       "    </tr>\n",
       "    <tr>\n",
       "      <th>2</th>\n",
       "      <td>3</td>\n",
       "      <td>2021-12-15 15:35:00.249425</td>\n",
       "      <td>zl-lax-us-gp3-wk106b.internet-census.org</td>\n",
       "      <td>91.247.71.198.host.secureserver.net</td>\n",
       "      <td>TCP</td>\n",
       "      <td>66</td>\n",
       "      <td>57468 &gt; 80 [ACK] Seq=1 Ack=1 Win=29312 Len=0 T...</td>\n",
       "    </tr>\n",
       "  </tbody>\n",
       "</table>\n",
       "</div>"
      ],
      "text/plain": [
       "   No.                        Time                                    Source  \\\n",
       "0    1  2021-12-15 15:35:00.237882  zl-lax-us-gp3-wk106b.internet-census.org   \n",
       "1    2  2021-12-15 15:35:00.237939       91.247.71.198.host.secureserver.net   \n",
       "2    3  2021-12-15 15:35:00.249425  zl-lax-us-gp3-wk106b.internet-census.org   \n",
       "\n",
       "                                Destination Protocol  Length  \\\n",
       "0       91.247.71.198.host.secureserver.net      TCP      74   \n",
       "1  zl-lax-us-gp3-wk106b.internet-census.org      TCP      74   \n",
       "2       91.247.71.198.host.secureserver.net      TCP      66   \n",
       "\n",
       "                                                Info  \n",
       "0  57468 > 80 [SYN] Seq=0 Win=29200 Len=0 MSS=146...  \n",
       "1  80 > 57468 [SYN, ACK] Seq=0 Ack=1 Win=65160 Le...  \n",
       "2  57468 > 80 [ACK] Seq=1 Ack=1 Win=29312 Len=0 T...  "
      ]
     },
     "execution_count": 2,
     "metadata": {},
     "output_type": "execute_result"
    }
   ],
   "source": [
    "ldf.head(3)"
   ]
  },
  {
   "cell_type": "code",
   "execution_count": 3,
   "id": "e47923d3",
   "metadata": {},
   "outputs": [
    {
     "data": {
      "text/html": [
       "<div>\n",
       "<style scoped>\n",
       "    .dataframe tbody tr th:only-of-type {\n",
       "        vertical-align: middle;\n",
       "    }\n",
       "\n",
       "    .dataframe tbody tr th {\n",
       "        vertical-align: top;\n",
       "    }\n",
       "\n",
       "    .dataframe thead th {\n",
       "        text-align: right;\n",
       "    }\n",
       "</style>\n",
       "<table border=\"1\" class=\"dataframe\">\n",
       "  <thead>\n",
       "    <tr style=\"text-align: right;\">\n",
       "      <th></th>\n",
       "      <th>No.</th>\n",
       "      <th>Time</th>\n",
       "      <th>Source</th>\n",
       "      <th>Destination</th>\n",
       "      <th>Protocol</th>\n",
       "      <th>Length</th>\n",
       "      <th>Info</th>\n",
       "    </tr>\n",
       "  </thead>\n",
       "  <tbody>\n",
       "    <tr>\n",
       "      <th>0</th>\n",
       "      <td>1</td>\n",
       "      <td>2022-09-29 20:24:42.043476</td>\n",
       "      <td>192.168.1.58</td>\n",
       "      <td>43.224.186.35.bc.googleusercontent.com</td>\n",
       "      <td>TLSv1.2</td>\n",
       "      <td>109</td>\n",
       "      <td>Application Data</td>\n",
       "    </tr>\n",
       "    <tr>\n",
       "      <th>1</th>\n",
       "      <td>2</td>\n",
       "      <td>2022-09-29 20:24:42.056745</td>\n",
       "      <td>43.224.186.35.bc.googleusercontent.com</td>\n",
       "      <td>192.168.1.58</td>\n",
       "      <td>TCP</td>\n",
       "      <td>66</td>\n",
       "      <td>443 &gt; 57256 [ACK] Seq=1 Ack=44 Win=270 Len=0 T...</td>\n",
       "    </tr>\n",
       "    <tr>\n",
       "      <th>2</th>\n",
       "      <td>3</td>\n",
       "      <td>2022-09-29 20:24:42.076282</td>\n",
       "      <td>43.224.186.35.bc.googleusercontent.com</td>\n",
       "      <td>192.168.1.58</td>\n",
       "      <td>TLSv1.2</td>\n",
       "      <td>106</td>\n",
       "      <td>Application Data</td>\n",
       "    </tr>\n",
       "  </tbody>\n",
       "</table>\n",
       "</div>"
      ],
      "text/plain": [
       "   No.                        Time                                  Source  \\\n",
       "0    1  2022-09-29 20:24:42.043476                            192.168.1.58   \n",
       "1    2  2022-09-29 20:24:42.056745  43.224.186.35.bc.googleusercontent.com   \n",
       "2    3  2022-09-29 20:24:42.076282  43.224.186.35.bc.googleusercontent.com   \n",
       "\n",
       "                              Destination Protocol  Length  \\\n",
       "0  43.224.186.35.bc.googleusercontent.com  TLSv1.2     109   \n",
       "1                            192.168.1.58      TCP      66   \n",
       "2                            192.168.1.58  TLSv1.2     106   \n",
       "\n",
       "                                                Info  \n",
       "0                                   Application Data  \n",
       "1  443 > 57256 [ACK] Seq=1 Ack=44 Win=270 Len=0 T...  \n",
       "2                                   Application Data  "
      ]
     },
     "execution_count": 3,
     "metadata": {},
     "output_type": "execute_result"
    }
   ],
   "source": [
    "hdf.head(3)"
   ]
  },
  {
   "cell_type": "markdown",
   "id": "1c7f1781",
   "metadata": {},
   "source": [
    "### Basic Exploration\n",
    "\n",
    "Explore a few things about the traces to better understand what the data contains:\n",
    "* How many packets is in each trace?\n",
    "* What is the duration of each trace?\n",
    "\n",
    "Sanity checks on the data you load are often some of the more important steps in data acquisition and quality checking. Without good quality data, ... What other \"sanity checks can you think of?"
   ]
  },
  {
   "cell_type": "markdown",
   "id": "d6f659f9",
   "metadata": {},
   "source": [
    "### Feature Exploration\n",
    "\n",
    "You may also wish to explore some other more basic statistics in the trace, such as the following:\n",
    "* Number of unique destinations\n",
    "* Distribution of packet length\n",
    "* Packets of different protocol types\n",
    "\n",
    "Plot and/or summarize some of these features below."
   ]
  },
  {
   "cell_type": "markdown",
   "id": "51abdf94",
   "metadata": {},
   "source": [
    "### Thought Question\n",
    "\n",
    "In general, as we design classification or prediction algorithms, we seek features (and representations of features) that distinguish normal activity from malicious activity. It's important that the features are characteristic of fundamental differences in the two behaviors, rather than simply characteristics of the dataset.\n",
    "\n",
    "An example of an inappropriate feature, for example, would be the time of day. These two traces were gathered at different dates and times, but normal traffic (and Log4j scans) can occur at any date or time. Thus, time would not make a robust feature. \n",
    "\n",
    "Can you think of other features that might separate the two datasets but not make good features?\n",
    "\n",
    "Which features do you think would make good features? Why or why not?"
   ]
  }
 ],
 "metadata": {
  "celltoolbar": "Tags",
  "kernelspec": {
   "display_name": "Python 3 (ipykernel)",
   "language": "python",
   "name": "python3"
  },
  "language_info": {
   "codemirror_mode": {
    "name": "ipython",
    "version": 3
   },
   "file_extension": ".py",
   "mimetype": "text/x-python",
   "name": "python",
   "nbconvert_exporter": "python",
   "pygments_lexer": "ipython3",
   "version": "3.10.6"
  }
 },
 "nbformat": 4,
 "nbformat_minor": 5
}
