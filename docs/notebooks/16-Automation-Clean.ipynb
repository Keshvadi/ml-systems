{
 "cells": [
  {
   "cell_type": "markdown",
   "metadata": {},
   "source": [
    "# Automating Machine Learning for Networking\n",
    "\n",
    "This notebook is designed to give you a **very** simple example of how to use [nPrint](https://nprint.github.io/nprint/) in a generic machine learning pipeline and the rapid pace at which we can train new models and test new ideas on network traffic. Note that this example is simply to show the pipeline, not to test a hard problem. The traffic collected is to the same website over the course of about 15 seconds.\n",
    "\n",
    "## Learning Objectives\n",
    "\n",
    "In this brief overview, you will use the nprint tool to generate fingerprints from packet captures (pcaps) that can be input to a variety of machine learning algorithms. By the end of this activity you will:\n",
    "\n",
    "1. Understand how to take a packet trace and represent it in a standard, generic form.\n",
    "2. Run nprint on a few classes of machine learning algorithms.\n",
    "3. Try the pipeline on some of your own (labeled) packet traces to understand how to build an end-to-end machine learning pipeline for a cybersecurity problem.\n",
    "\n",
    "## Tasks\n",
    "\n",
    "1. Install nprint and run it on a packet trace---either the one provided, one that is available from public repositories (e.g., CICIDS). Optionally, try it on your own traffic.\n",
    "2. Run the notebook below to understand nprint and the basic machine learning pipeline.\n",
    "3. Try nprint on a new (security) classification problem, using one of the provided datasets.\n",
    "\n",
    "---\n",
    "\n",
    "## Requirements\n",
    "\n",
    "nPrint must be installed into $PATH for external commands to work. Note: You may not be able to do this part in Google collab; it may only work if you have a local (Linux) machine on which you are running the notebook.  If that is the case, the second cell where you execute the commands on pcaps may not run, but we have provided the \"npt\" nprint output files as well, so you can run the rest of the notebook.\n",
    "\n",
    "You will want to install:\n",
    "\n",
    "* nPrint ([Installation instructions](https://github.com/nprint/nprint))\n",
    "* pcapML ([Installation instructions](https://github.com/nprint/pcapml))\n"
   ]
  },
  {
   "cell_type": "code",
   "execution_count": 1,
   "metadata": {},
   "outputs": [],
   "source": [
    "from sklearn.model_selection import train_test_split\n",
    "from sklearn.ensemble import RandomForestClassifier\n",
    "from sklearn.metrics import classification_report\n",
    "from sklearn.metrics import roc_auc_score"
   ]
  },
  {
   "cell_type": "markdown",
   "metadata": {},
   "source": [
    "## Part 1: Generating nPrints from Traffic\n",
    "\n",
    "First, use nPrint to generate nPrints from each traffic trace, *only including the TCP headers in the nPrints*. (see which option you will need for that)."
   ]
  },
  {
   "cell_type": "code",
   "execution_count": 2,
   "metadata": {},
   "outputs": [
    {
     "name": "stdout",
     "output_type": "stream",
     "text": [
      "tcsh(44085,0x203109e00) malloc: can't allocate region\r\n",
      ":*** mach_vm_map(size=1048576, flags: 100) failed (error code=268435465)\r\n",
      "tcsh(44085,0x203109e00) malloc: *** set a breakpoint in malloc_error_break to debug\r\n",
      "Out of memory\r\n"
     ]
    }
   ],
   "source": [
    "nprint = '/usr/local/bin/nprint'\n",
    "data = 'data/'\n",
    "\n",
    "cmd_80 = '{} -P {}/port80.pcap -t -W {}/port80.npt'.format(nprint, data, data)\n",
    "cmd_443 = '{} -P {}/port443.pcap -t -W {}/port443.npt'.format(nprint, data, data)\n",
    "!{cmd_80}\n",
    "!{cmd_443}"
   ]
  },
  {
   "cell_type": "markdown",
   "metadata": {},
   "source": [
    "Lets examine the nPrints, which can be directly loaded with Pandas. Load the nprints using `read_csv` function in Pandas into data frames. How many packets are in each nprint? How many features are in each packet?"
   ]
  },
  {
   "cell_type": "code",
   "execution_count": 12,
   "metadata": {},
   "outputs": [
    {
     "name": "stdout",
     "output_type": "stream",
     "text": [
      "Port 80 nPrint: Number of Packets: 2421, Features per packet: 480\n",
      "Port 443 nPrint: Number of Packets: 2500, Features per packet: 480\n"
     ]
    }
   ],
   "source": [
    "import pandas as pd\n",
    "\n",
    "nprint_80 = pd.read_csv('{}/port80.npt'.format(data), index_col=0)\n",
    "nprint_443 = pd.read_csv('{}/port443.npt'.format(data), index_col=0)\n",
    "\n",
    "print('Port 80 nPrint: Number of Packets: {0}, Features per packet: {1}'.format(nprint_80.shape[0], nprint_80.shape[1]))\n",
    "print('Port 443 nPrint: Number of Packets: {0}, Features per packet: {1}'.format(nprint_443.shape[0], nprint_443.shape[1]))"
   ]
  },
  {
   "cell_type": "markdown",
   "metadata": {},
   "source": [
    "You should see that each nprint has the same number of features, which is the maximum number of bits in a TCP header. Let's look at the header itself.\n",
    "\n",
    "Notice how each bit (feature) is named according to the exact bit it represents in the packet, and all the possible bits of a TCP header are accounted for."
   ]
  },
  {
   "cell_type": "code",
   "execution_count": 13,
   "metadata": {},
   "outputs": [
    {
     "name": "stdout",
     "output_type": "stream",
     "text": [
      "Index(['tcp_sprt_0', 'tcp_sprt_1', 'tcp_sprt_2', 'tcp_sprt_3', 'tcp_sprt_4',\n",
      "       'tcp_sprt_5', 'tcp_sprt_6', 'tcp_sprt_7', 'tcp_sprt_8', 'tcp_sprt_9',\n",
      "       ...\n",
      "       'tcp_opt_310', 'tcp_opt_311', 'tcp_opt_312', 'tcp_opt_313',\n",
      "       'tcp_opt_314', 'tcp_opt_315', 'tcp_opt_316', 'tcp_opt_317',\n",
      "       'tcp_opt_318', 'tcp_opt_319'],\n",
      "      dtype='object', length=480)\n",
      "Index(['tcp_sprt_0', 'tcp_sprt_1', 'tcp_sprt_2', 'tcp_sprt_3', 'tcp_sprt_4',\n",
      "       'tcp_sprt_5', 'tcp_sprt_6', 'tcp_sprt_7', 'tcp_sprt_8', 'tcp_sprt_9',\n",
      "       ...\n",
      "       'tcp_opt_310', 'tcp_opt_311', 'tcp_opt_312', 'tcp_opt_313',\n",
      "       'tcp_opt_314', 'tcp_opt_315', 'tcp_opt_316', 'tcp_opt_317',\n",
      "       'tcp_opt_318', 'tcp_opt_319'],\n",
      "      dtype='object', length=480)\n"
     ]
    }
   ],
   "source": [
    "print(nprint_80.columns)\n",
    "print(nprint_443.columns)"
   ]
  },
  {
   "cell_type": "markdown",
   "metadata": {},
   "source": [
    "## Part 2: nPrint to Machine Learning Samples\n",
    "\n",
    "Now we need to take each nPrint and make each packet a \"sample\" for the machine learning task at hand. In this case, we'll set up a supervised learning task where port 80 traffic is labeled \"unencrypted\" and port 443 traffic is labeled \"encrypted\""
   ]
  },
  {
   "cell_type": "code",
   "execution_count": 14,
   "metadata": {},
   "outputs": [],
   "source": [
    "import numpy as np\n",
    "\n",
    "def label_data(data, label, features, labels):\n",
    "    for _, row in data.iterrows():\n",
    "        features.append(np.array(row))\n",
    "        labels.append(label)\n",
    "    return features, labels\n",
    "\n",
    "def train_eval(features,labels,clf):\n",
    "    # Split data\n",
    "    X_train, X_test, y_train, y_test = train_test_split(features, labels)\n",
    "\n",
    "    clf.fit(X_train, y_train) \n",
    "    y_pred = clf.predict(X_test)\n",
    "\n",
    "    # Statistics\n",
    "    report = classification_report(y_test, y_pred)\n",
    "    print(report)\n",
    "\n",
    "    # Let's also get the ROC AUC score while we're here, which requires a probability instead of just the prediction\n",
    "    y_pred_proba = clf.predict_proba(X_test)\n",
    "    # predict_proba gives us a probability estimate of each class, while roc_auc just cares about the \"positive\" class\n",
    "    y_pred_proba_pos = [sublist[1] for sublist in y_pred_proba]\n",
    "    roc = roc_auc_score(y_test, y_pred_proba_pos)\n",
    "    print('ROC AUC Score: {0}'.format(roc))\n",
    "\n",
    "def eval_nprint(class1, class2):\n",
    "    \n",
    "    (cmd1, label1) = class1\n",
    "    (cmd2, label2) = class2\n",
    "    \n",
    "    # Generate nPrints\n",
    "    !{cmd1}\n",
    "    !{cmd2}\n",
    "\n",
    "    # Load nPrints\n",
    "    df1 = pd.read_csv('{}/port80.npt'.format(data), index_col=0)\n",
    "    df2 = pd.read_csv('{}/port443.npt'.format(data), index_col=0)\n",
    "\n",
    "    features = []\n",
    "    labels = []\n",
    "\n",
    "    (features, labels) = label_data(df1, label1, features, labels)\n",
    "    (features, labels) = label_data(df2, label2, features, labels)\n",
    "\n",
    "    rf = RandomForestClassifier(n_estimators=1000, max_depth=None, min_samples_split=2, random_state=0)\n",
    "    train_eval(features,labels,rf)\n",
    "    return rf"
   ]
  },
  {
   "cell_type": "markdown",
   "metadata": {},
   "source": [
    "## Part 3: Training a Classifier\n",
    "\n",
    "We're already ready to train and test a model on the traffic we gathered. Let's split the data into training and testing data, train a model, and get a stat report."
   ]
  },
  {
   "cell_type": "code",
   "execution_count": 16,
   "metadata": {},
   "outputs": [
    {
     "name": "stdout",
     "output_type": "stream",
     "text": [
      "              precision    recall  f1-score   support\n",
      "\n",
      "   encrypted       1.00      1.00      1.00       634\n",
      " unencrypted       1.00      1.00      1.00       597\n",
      "\n",
      "    accuracy                           1.00      1231\n",
      "   macro avg       1.00      1.00      1.00      1231\n",
      "weighted avg       1.00      1.00      1.00      1231\n",
      "\n",
      "ROC AUC Score: 1.0\n"
     ]
    }
   ],
   "source": [
    "# Initialize Classifier, Train, and Predict\n",
    "rf = eval_nprint((cmd_80,'unencrypted'), (cmd_443, 'encrypted'))"
   ]
  },
  {
   "cell_type": "markdown",
   "metadata": {},
   "source": [
    "### Understanding the Model\n",
    "\n",
    "nPrint's alignment of each packet allows for understanding the specific features (parts of the packet) that are driving the model's performance. It turns out that the options that are being set in the TCP header is actually more important than the port numbers themselves!"
   ]
  },
  {
   "cell_type": "markdown",
   "metadata": {},
   "source": [
    "## Part 4: Exploring Different Representations\n",
    "\n",
    "Now that we have a generic pipeline, we can leverage nPrint's flags to generate different versions of nPrints. \n",
    "\n",
    "Test a version of this classification problem using **only** the IPv4 Headers of the packets."
   ]
  },
  {
   "cell_type": "code",
   "execution_count": 19,
   "metadata": {},
   "outputs": [
    {
     "name": "stdout",
     "output_type": "stream",
     "text": [
      "              precision    recall  f1-score   support\n",
      "\n",
      "   encrypted       1.00      1.00      1.00       623\n",
      " unencrypted       1.00      1.00      1.00       608\n",
      "\n",
      "    accuracy                           1.00      1231\n",
      "   macro avg       1.00      1.00      1.00      1231\n",
      "weighted avg       1.00      1.00      1.00      1231\n",
      "\n",
      "ROC AUC Score: 1.0\n"
     ]
    }
   ],
   "source": [
    "rf = eval_nprint((cmd_80,'unencrypted'), (cmd_443, 'encrypted'))"
   ]
  },
  {
   "cell_type": "markdown",
   "metadata": {},
   "source": [
    "How about Testing using just the first 30 payload bytes in each packet?"
   ]
  },
  {
   "cell_type": "code",
   "execution_count": 20,
   "metadata": {},
   "outputs": [
    {
     "name": "stdout",
     "output_type": "stream",
     "text": [
      "              precision    recall  f1-score   support\n",
      "\n",
      "   encrypted       0.67      0.68      0.67       635\n",
      " unencrypted       0.65      0.64      0.65       596\n",
      "\n",
      "    accuracy                           0.66      1231\n",
      "   macro avg       0.66      0.66      0.66      1231\n",
      "weighted avg       0.66      0.66      0.66      1231\n",
      "\n",
      "ROC AUC Score: 0.6959493737779421\n"
     ]
    }
   ],
   "source": [
    "cmd_80 = '{} -P {}/port80.pcap -p 30 -W {}/port80.npt'.format(nprint, data, data)\n",
    "cmd_443 = '{} -P {}/port443.pcap -p 30 -W {}/port443.npt'.format(nprint, data, data)\n",
    "\n",
    "rf = eval_nprint((cmd_80,'unencrypted'), (cmd_443, 'encrypted'))"
   ]
  },
  {
   "cell_type": "markdown",
   "metadata": {},
   "source": [
    "Using this representation performs much more poorly. Why might that be the case?"
   ]
  },
  {
   "cell_type": "markdown",
   "metadata": {},
   "source": [
    "## Summary\n",
    "\n",
    "Hopefully this gives you a better idea of how nPrint can be used to rapidly train and test models for different traffic analysis problems. While this problem was contrived and simple, the same basic steps can be performed for any single-packet classification problem. \n",
    "\n",
    "If you want to train and test using **sets** of packets as input to a model, you'll either need a model that can handle that input, such as a CNN, or to flatten the 2D packet sample into a 1d sample for use with a model such as the random forest above."
   ]
  },
  {
   "cell_type": "code",
   "execution_count": null,
   "metadata": {},
   "outputs": [],
   "source": []
  }
 ],
 "metadata": {
  "celltoolbar": "Tags",
  "kernelspec": {
   "display_name": "Python 3 (ipykernel)",
   "language": "python",
   "name": "python3"
  },
  "language_info": {
   "codemirror_mode": {
    "name": "ipython",
    "version": 3
   },
   "file_extension": ".py",
   "mimetype": "text/x-python",
   "name": "python",
   "nbconvert_exporter": "python",
   "pygments_lexer": "ipython3",
   "version": "3.10.8"
  }
 },
 "nbformat": 4,
 "nbformat_minor": 4
}
